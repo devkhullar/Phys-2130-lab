{
 "cells": [
  {
   "cell_type": "markdown",
   "id": "e9ec1bfa-c0e8-40ec-a814-90d5d1be6bd2",
   "metadata": {},
   "source": [
    "### Lab guide\n",
    "this is a lab guide for all the code that I can reuse for my labs"
   ]
  },
  {
   "cell_type": "code",
   "execution_count": 3,
   "id": "bee0de7b-57a5-4506-8787-3b1d587d0c60",
   "metadata": {},
   "outputs": [],
   "source": [
    "import numpy as np\n",
    "import matplotlib.pyplot as plt\n",
    "from scipy import optimize\n",
    "\n",
    "import scienceplots  \n",
    "plt.style.use(['science','notebook', 'grid'])\n",
    "\n",
    "from matplotlib import rc\n",
    "rc('text', usetex=True)\n",
    "font = {'family' : 'serif',\n",
    "        'weight' : 'bold',\n",
    "        'size'   : '14'}\n",
    "rc('font', **font)"
   ]
  },
  {
   "cell_type": "markdown",
   "id": "f77c59d1-177d-4fcc-b1b6-db49af7deb7a",
   "metadata": {},
   "source": [
    "### For extracting data from an .xslx file"
   ]
  },
  {
   "cell_type": "code",
   "execution_count": null,
   "id": "19772d15-ea7d-4383-9161-136182992267",
   "metadata": {},
   "outputs": [],
   "source": [
    "df = pd.read_excel('natural_log.xlsx')\n",
    "\n",
    "data_array = df.to_numpy()\n",
    "transposed_array = data_array.transpose()\n",
    "x = np.array(transposed_array[0])\n",
    "y = np.array(transposed_array[1])"
   ]
  },
  {
   "cell_type": "markdown",
   "id": "d295b302-68a6-42ac-aced-722341fd7f09",
   "metadata": {},
   "source": [
    "### Linear Regression"
   ]
  },
  {
   "cell_type": "code",
   "execution_count": null,
   "id": "77392a8c-4734-4a28-accb-ee67a4e95ed9",
   "metadata": {},
   "outputs": [],
   "source": [
    "coef = np.polyfit(x,y,1)\n",
    "poly1d_fn = np.poly1d(coef) \n",
    "plt.plot(x,y, 'bo', x, poly1d_fn(x), '--k') #'--k'=black dashed line, 'yo' = yellow circle marker\n",
    "plt.xlabel(r'$\\frac{L}{A}$ $[m^{-1}]$')\n",
    "plt.ylabel(r'Resistance [$\\Omega$]')\n",
    "plt.text(0.05, 0.85, '$y = (0.21 \\pm 0.07)x + (1.8 \\pm 1.9)$', transform=ax.transAxes, bbox=dict(facecolor='white', edgecolor='red'))\n",
    "plt.savefig('2wire.png')\n",
    "plt.show()"
   ]
  },
  {
   "cell_type": "markdown",
   "id": "acf933da-676b-42df-b96f-984a1e4d03c6",
   "metadata": {},
   "source": [
    "### Another way of doing linear regression"
   ]
  },
  {
   "cell_type": "raw",
   "id": "47e0c523-8114-4c55-82fa-415da96c6abb",
   "metadata": {},
   "source": [
    "I am still working on the code cell below. The goal is to write code which immediately graphs the plot and also includes the uncertainty in the slope, m, and the intercept, c. It does do that right now, however, I do not like the notation in which it produces those plots and thus, need to work on that."
   ]
  },
  {
   "cell_type": "code",
   "execution_count": null,
   "id": "ffa440f7-784e-415b-9034-de8d1ef775c5",
   "metadata": {},
   "outputs": [],
   "source": [
    "# Perform a linear fit with uncertainties\n",
    "coeffs, cov = np.polyfit(x, y, 1, cov=True)  # Linear fit with covariance matrix\n",
    "m, c = coeffs  # Slope and intercept\n",
    "m_err, c_err = np.sqrt(np.diag(cov))  # Extract standard deviations (uncertainties)\n",
    "\n",
    "# Generate best-fit line\n",
    "x_fit = np.linspace(min(x), max(x), 500)\n",
    "y_fit = m * x_fit + c\n",
    "\n",
    "# Plotting\n",
    "plt.scatter(x, y, c='blue', marker='o')\n",
    "plt.plot(x_fit, y_fit, label=fr'Best-fit: $y = ({m:.2e} \\pm {m_err:.2e})x + ({c:.2e} \\pm {c_err:.2e})$', color='red')\n",
    "\n",
    "# Labels and title\n",
    "plt.xlabel('x')\n",
    "plt.ylabel('y')\n",
    "plt.title('Data with Best-Fit Line')\n",
    "plt.legend()\n",
    "plt.grid(True)\n",
    "plt.show()\n"
   ]
  },
  {
   "cell_type": "markdown",
   "id": "49da3870-89dd-4e7b-820f-3f1610f23a96",
   "metadata": {},
   "source": [
    "### Least Squares Curve Fitting"
   ]
  },
  {
   "cell_type": "code",
   "execution_count": null,
   "id": "fca0198b-ae0f-4b56-800d-5da1b24d3f7b",
   "metadata": {},
   "outputs": [],
   "source": [
    "fig, ax = plt.subplots(nrows=1, ncols=1)\n",
    "colors = ['red','blue', 'green', 'purple', 'red']\n",
    "ax.plot(h, p, '-')  # label='$legend_label$'\n",
    "\n",
    "# error bars\n",
    "plt.errorbar(x, y, yerr=yerr, ecolor='k', capsize=3, ls='--')\n",
    "\n",
    "# Labels\n",
    "ax.set_ylabel(\"Absolute Pressure [kPa]\")\n",
    "ax.set_xlabel(\"Height [m]\")\n",
    "\n",
    "# Changing the limits of the x/y axis\n",
    "ax.set_xlim(-1.7, 4.3)\n",
    "\n",
    "# Creating a text book \n",
    "ax.text(0.22, 0.075, '$A$', transform=ax.transAxes, bbox=dict(facecolor='white', edgecolor='red'))\n",
    "\n",
    "# Legends\n",
    "ax.legend()\n",
    "# plt.savefig('fig1')  \n",
    "plt.show()"
   ]
  },
  {
   "cell_type": "code",
   "execution_count": null,
   "id": "af6f4f2b-709c-49b8-be2b-001d6cdc44d1",
   "metadata": {},
   "outputs": [],
   "source": [
    "# Curve fitting\n",
    "fake_x_data = np.linspace(4.99, 14, 100) # making fake data where we will plot the best fit line\n",
    "\n",
    "def polynomial(x, a, b, c): \n",
    "    return a*x**2 + b*x + c\n",
    "\n",
    "params, params_covariance = optimize.curve_fit(polynomial, real_x_data, real_y_data)\n",
    "print(params, '\\n')\n",
    "\n",
    "fitline = []\n",
    "for i in range(len(fake_x_data)):\n",
    "    fitline.append(polynomial(fake_x_data[i], params[0], params[1], params[2]))\n",
    "\n",
    "fig, ax = plt.subplots(nrows=1, ncols=1, figsize=(8,6))\n",
    "ax.plot(fake_x_data, fitline, '--')\n",
    "ax.scatter(real_x_data, real_y_data, marker = '^')"
   ]
  }
 ],
 "metadata": {
  "kernelspec": {
   "display_name": "anaconda-2024.02-py310",
   "language": "python",
   "name": "conda-env-anaconda-2024.02-py310-py"
  },
  "language_info": {
   "codemirror_mode": {
    "name": "ipython",
    "version": 3
   },
   "file_extension": ".py",
   "mimetype": "text/x-python",
   "name": "python",
   "nbconvert_exporter": "python",
   "pygments_lexer": "ipython3",
   "version": "3.10.14"
  }
 },
 "nbformat": 4,
 "nbformat_minor": 5
}
